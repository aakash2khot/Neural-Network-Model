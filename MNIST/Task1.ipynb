{
  "nbformat": 4,
  "nbformat_minor": 0,
  "metadata": {
    "colab": {
      "provenance": []
    },
    "kernelspec": {
      "name": "python3",
      "display_name": "Python 3"
    },
    "language_info": {
      "name": "python"
    }
  },
  "cells": [
    {
      "cell_type": "code",
      "execution_count": 7,
      "metadata": {
        "id": "MtCtrtVhBw6b"
      },
      "outputs": [],
      "source": [
        "# STUDENT_NAME = Aakash Khot #Put your name\n",
        "# STUDENT_ROLLNO = IMT2020512 #Put your roll number\n",
        "# CODE_COMPLETE = False \n",
        "# set the above to True if you were able to complete the code\n",
        "# and that you feel your model can generate a good result\n",
        "# otherwise keep it as False\n",
        "# Don't lie about this. This is so that we don't waste time with\n",
        "# the autograder and just perform a manual check\n",
        "# If the flag above is True and your code crashes, that's\n",
        "# an instant deduction of 2 points on the assignment.\n",
        "\n",
        "## No code within \"PROTECTED\" can be modified.\n",
        "## We expect this part to be VERBATIM.\n",
        "## IMPORTS \n",
        "## No other library imports other than the below are allowed.\n",
        "## No, not even Scipy\n",
        "import numpy as np \n",
        "import pandas as pd \n",
        "import sklearn.model_selection as model_selection \n",
        "import sklearn.preprocessing as preprocessing \n",
        "import sklearn.metrics as metrics \n",
        "from tqdm import tqdm # You can make lovely progress bars using this\n",
        "from sklearn.model_selection import train_test_split, StratifiedKFold  # new added ...................\n",
        "## FILE READING: \n",
        "## You are not permitted to read any files other than the ones given below.\n",
        "X_train = pd.read_csv(\"train_X.csv\",index_col=0).to_numpy()\n",
        "y_train = pd.read_csv(\"train_y.csv\",index_col=0).to_numpy().reshape(-1,)\n",
        "X_test = pd.read_csv(\"test_X.csv\",index_col=0).to_numpy()\n",
        "submissions_df = pd.read_csv(\"sample_submission.csv\",index_col=0)\n",
        "\n",
        "##FILE WRITING:\n",
        "# You are not permitted to write to any file other than the one given below.\n",
        "# submissions_df.to_csv(\"{}__{}.csv\".format(STUDENT_ROLLNO,STUDENT_NAME))\n"
      ]
    },
    {
      "cell_type": "code",
      "source": [
        "# from google.colab import drive\n",
        "# drive.mount('https://drive.google.com/drive/folders/1WoZKrEoJVxY6pooXaxh5ofgaverTtNZQ?usp=share_link')"
      ],
      "metadata": {
        "id": "-k-reOv87iFs"
      },
      "execution_count": null,
      "outputs": []
    },
    {
      "cell_type": "code",
      "source": [
        "X_train.shape, X_test.shape"
      ],
      "metadata": {
        "id": "Eui__juVCYQz",
        "colab": {
          "base_uri": "https://localhost:8080/"
        },
        "outputId": "e3f55e8e-d535-4ea3-da5e-e3bd2517f658"
      },
      "execution_count": 8,
      "outputs": [
        {
          "output_type": "execute_result",
          "data": {
            "text/plain": [
              "((60000, 784), (10000, 784))"
            ]
          },
          "metadata": {},
          "execution_count": 8
        }
      ]
    },
    {
      "cell_type": "code",
      "source": [
        "X_train=X_train/255\n",
        "X_test=X_test/255"
      ],
      "metadata": {
        "id": "fvYsKazioWGa"
      },
      "execution_count": 9,
      "outputs": []
    },
    {
      "cell_type": "code",
      "source": [
        "rand=np.arange(60000)\n",
        "np.random.shuffle(rand)\n",
        "l=45000\n",
        "train_no=rand[:l]\n",
        "\n",
        "val_no=np.setdiff1d(rand,train_no)\n",
        "\n",
        "X_train,X_valid=X_train[train_no,:],X_train[val_no,:]\n",
        "\n",
        "y_train,y_valid=y_train[train_no],y_train[val_no]"
      ],
      "metadata": {
        "id": "EKOvqcPhe1iI"
      },
      "execution_count": 10,
      "outputs": []
    },
    {
      "cell_type": "code",
      "source": [
        "X_train=X_train.T\n",
        "X_valid=X_valid.T\n",
        "y_train=y_train.T\n",
        "y_valid=y_valid.T"
      ],
      "metadata": {
        "id": "BT9OiD1ahbE8"
      },
      "execution_count": 20,
      "outputs": []
    },
    {
      "cell_type": "code",
      "source": [
        "\n",
        "def ReLU(x):\n",
        "    return np.maximum(x, 0)\n",
        "def diff_ReLU(x):\n",
        "    return x>0\n",
        "\n",
        "def Softmax(x):\n",
        "    return np.exp(x)/sum(np.exp(x))\n",
        "\n",
        "def Forward_Prop(Weight1, bias1, Weight2, bias2, X):\n",
        "    Forward1 = Weight1.dot(X) + bias1\n",
        "    Activation1 = ReLU(Forward1)\n",
        "    Forward2 = Weight2.dot(Activation1) + bias2\n",
        "    Activation2 = Softmax(Forward2)\n",
        "    return Forward1, Activation1, Forward2, Activation2\n",
        "  \n",
        "def One_hot_encoding(Y,n):\n",
        "    Y_new = np.zeros((Y.size, n))\n",
        "    Y_new[np.arange(Y.size), Y] = 1\n",
        "    return Y_new.T\n",
        "\n",
        "def Backward_Prop(Forward1, Activation1, Forward2, Activation2, Weight1, Weight2, X, Y,l,n):\n",
        "    Y_new = One_hot_encoding(Y,n)\n",
        "    diff_Forward2 = Activation2 - Y_new\n",
        "    diff_Weight2 = diff_Forward2.dot(Activation1.T)/l\n",
        "    diff_bias2 = np.sum(diff_Forward2)/l\n",
        "    diff_Forward1 = Weight2.T.dot(diff_Forward2)*diff_ReLU(Forward1)\n",
        "    diff_Weight1 =diff_Forward1.dot(X.T)/l\n",
        "    diff_bias1 = np.sum(diff_Forward1)/l\n",
        "    return diff_Weight1, diff_bias1, diff_Weight2, diff_bias2\n",
        "  \n",
        "def Update(Weight1, bias1, Weight2, bias2, diff_Weight1, diff_bias1, diff_Weight2, diff_bias2, learning_rate):\n",
        "    Weight1 = Weight1 - learning_rate*diff_Weight1 \n",
        "    Weight2 = Weight2 - learning_rate*diff_Weight2 \n",
        "    bias1 = bias1 - learning_rate*diff_bias1    \n",
        "    bias2 = bias2 - learning_rate*diff_bias2    \n",
        "    return Weight1, bias1, Weight2, bias2\n",
        "\n",
        "def Accuracy(y_pred,y):\n",
        "  Correct = np.sum(y_pred==y,axis=0)\n",
        "  return Correct/len(y)\n",
        "\n",
        "def gradient_descent(Weight1,bias1,Weight2,bias2,X,Y,learning_rate,iterations,l,n):\n",
        "   \n",
        "    for i in range(iterations):\n",
        "        Forward1, Activation1, Forward2, Activation2 = Forward_Prop(Weight1, bias1, Weight2, bias2, X)\n",
        "        diff_Weight1, diff_bias1, diff_Weight2, diff_bias2 = Backward_Prop(Forward1, Activation1, Forward2, Activation2, Weight1, Weight2, X, Y,l,n)\n",
        "        Weight1, bias1, Weight2, bias2 = Update(Weight1, bias1, Weight2, bias2, diff_Weight1, diff_bias1, diff_Weight2, diff_bias2, learning_rate)\n",
        "        if i % 20 == 0:\n",
        "            print(\"Iteration: \", i)\n",
        "            predictions = np.argmax(Activation2, 0)\n",
        "            print(Accuracy(predictions, Y))\n",
        "    return Weight1, bias1, Weight2, bias2"
      ],
      "metadata": {
        "id": "X30hiYF1oOiF"
      },
      "execution_count": 17,
      "outputs": []
    },
    {
      "cell_type": "code",
      "source": [
        "n=200\n",
        "Weight1 = np.random.rand(n, 784) - 0.5\n",
        "bias1 = np.random.rand(n, 1) - 0.5\n",
        "Weight2 = np.random.rand(n, n) - 0.5\n",
        "bias2 = np.random.rand(n, 1) - 0.5\n",
        "Weight1, bias1, Weight2, bias2 = gradient_descent(Weight1,bias1,Weight2,bias2,X_train, y_train, 0.25, 500,l,n)"
      ],
      "metadata": {
        "colab": {
          "base_uri": "https://localhost:8080/"
        },
        "id": "c77JSDq1g3NX",
        "outputId": "1fe4d7e9-49a2-4738-fda3-49d2f025ef37"
      },
      "execution_count": 18,
      "outputs": [
        {
          "output_type": "stream",
          "name": "stdout",
          "text": [
            "Iteration:  0\n",
            "0.006577777777777778\n",
            "Iteration:  20\n",
            "0.7435333333333334\n",
            "Iteration:  40\n",
            "0.8172\n",
            "Iteration:  60\n",
            "0.8471777777777778\n",
            "Iteration:  80\n",
            "0.8659777777777777\n",
            "Iteration:  100\n",
            "0.8780444444444444\n",
            "Iteration:  120\n",
            "0.8871111111111111\n",
            "Iteration:  140\n",
            "0.8934444444444445\n",
            "Iteration:  160\n",
            "0.8982\n",
            "Iteration:  180\n",
            "0.9030888888888889\n",
            "Iteration:  200\n",
            "0.9068\n",
            "Iteration:  220\n",
            "0.9107777777777778\n",
            "Iteration:  240\n",
            "0.9142888888888889\n",
            "Iteration:  260\n",
            "0.9172222222222223\n",
            "Iteration:  280\n",
            "0.9198888888888889\n",
            "Iteration:  300\n",
            "0.9224666666666667\n",
            "Iteration:  320\n",
            "0.9244\n",
            "Iteration:  340\n",
            "0.9261111111111111\n",
            "Iteration:  360\n",
            "0.9276222222222222\n",
            "Iteration:  380\n",
            "0.9290222222222222\n",
            "Iteration:  400\n",
            "0.9306666666666666\n",
            "Iteration:  420\n",
            "0.9320666666666667\n",
            "Iteration:  440\n",
            "0.9338\n",
            "Iteration:  460\n",
            "0.9351555555555555\n",
            "Iteration:  480\n",
            "0.9362888888888888\n"
          ]
        }
      ]
    },
    {
      "cell_type": "code",
      "source": [
        "\n",
        "Forward1, Activation1, Forward2, Activation2 = Forward_Prop(Weight1, bias1, Weight2, bias2, X_valid)\n",
        "predictions = np.argmax(Activation2, 0)\n",
        "print(Accuracy(predictions, y_valid))"
      ],
      "metadata": {
        "colab": {
          "base_uri": "https://localhost:8080/"
        },
        "id": "AHz54G_4m8F-",
        "outputId": "ec14ec4f-aa62-4c35-c05a-d591987c5da5"
      },
      "execution_count": 21,
      "outputs": [
        {
          "output_type": "stream",
          "name": "stdout",
          "text": [
            "0.9284\n"
          ]
        }
      ]
    },
    {
      "cell_type": "code",
      "source": [],
      "metadata": {
        "id": "Yc4KQ3diplZ3"
      },
      "execution_count": null,
      "outputs": []
    },
    {
      "cell_type": "code",
      "source": [
        "\n"
      ],
      "metadata": {
        "id": "8Y_zUr56kbzu"
      },
      "execution_count": null,
      "outputs": []
    }
  ]
}